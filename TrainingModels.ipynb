{
 "cells": [
  {
   "cell_type": "code",
   "execution_count": 9,
   "id": "fff356de-67b8-48b9-b044-bce2560ac765",
   "metadata": {},
   "outputs": [
    {
     "name": "stderr",
     "output_type": "stream",
     "text": [
      "<>:12: SyntaxWarning: invalid escape sequence '\\P'\n",
      "<>:12: SyntaxWarning: invalid escape sequence '\\P'\n",
      "C:\\Users\\hp\\AppData\\Local\\Temp\\ipykernel_13628\\988055720.py:12: SyntaxWarning: invalid escape sequence '\\P'\n",
      "  validation_dir = \"C://Users//hp//Desktop//SE-7//SPM\\Project//MedicalImagingandRadiology//LungDiseaseDataset//val\"  # replace with your validation data path\n"
     ]
    },
    {
     "name": "stdout",
     "output_type": "stream",
     "text": [
      "Found 4929 images belonging to 4 classes.\n",
      "Found 1615 images belonging to 4 classes.\n",
      "Epoch 1/6\n",
      "\u001b[1m154/154\u001b[0m \u001b[32m━━━━━━━━━━━━━━━━━━━━\u001b[0m\u001b[37m\u001b[0m \u001b[1m310s\u001b[0m 2s/step - accuracy: 0.4362 - loss: 1.3703 - val_accuracy: 0.7856 - val_loss: 0.6061\n",
      "Epoch 2/6\n",
      "\u001b[1m154/154\u001b[0m \u001b[32m━━━━━━━━━━━━━━━━━━━━\u001b[0m\u001b[37m\u001b[0m \u001b[1m1s\u001b[0m 4ms/step - accuracy: 0.9062 - loss: 0.3993 - val_accuracy: 0.8000 - val_loss: 0.7093\n",
      "Epoch 3/6\n",
      "\u001b[1m154/154\u001b[0m \u001b[32m━━━━━━━━━━━━━━━━━━━━\u001b[0m\u001b[37m\u001b[0m \u001b[1m278s\u001b[0m 2s/step - accuracy: 0.7826 - loss: 0.5863 - val_accuracy: 0.8319 - val_loss: 0.4727\n",
      "Epoch 4/6\n",
      "\u001b[1m154/154\u001b[0m \u001b[32m━━━━━━━━━━━━━━━━━━━━\u001b[0m\u001b[37m\u001b[0m \u001b[1m1s\u001b[0m 3ms/step - accuracy: 0.8750 - loss: 0.4451 - val_accuracy: 1.0000 - val_loss: 0.3440\n",
      "Epoch 5/6\n",
      "\u001b[1m154/154\u001b[0m \u001b[32m━━━━━━━━━━━━━━━━━━━━\u001b[0m\u001b[37m\u001b[0m \u001b[1m275s\u001b[0m 2s/step - accuracy: 0.8299 - loss: 0.4744 - val_accuracy: 0.8481 - val_loss: 0.4157\n",
      "Epoch 6/6\n",
      "\u001b[1m154/154\u001b[0m \u001b[32m━━━━━━━━━━━━━━━━━━━━\u001b[0m\u001b[37m\u001b[0m \u001b[1m1s\u001b[0m 3ms/step - accuracy: 0.8750 - loss: 0.3222 - val_accuracy: 0.8667 - val_loss: 0.3924\n"
     ]
    },
    {
     "name": "stderr",
     "output_type": "stream",
     "text": [
      "WARNING:absl:You are saving your model as an HDF5 file via `model.save()` or `keras.saving.save_model(model)`. This file format is considered legacy. We recommend using instead the native Keras format, e.g. `model.save('my_model.keras')` or `keras.saving.save_model(model, 'my_model.keras')`. \n"
     ]
    },
    {
     "name": "stdout",
     "output_type": "stream",
     "text": [
      "Model saved at LungDisease_model.h5\n"
     ]
    }
   ],
   "source": [
    "# import necessary libraries\n",
    "import tensorflow as tf\n",
    "from tensorflow.keras.preprocessing.image import ImageDataGenerator\n",
    "from tensorflow.keras.applications import MobileNetV2\n",
    "from tensorflow.keras.models import Model\n",
    "from tensorflow.keras.layers import Dense, Dropout, Flatten, GlobalAveragePooling2D\n",
    "from tensorflow.keras.optimizers import Adam\n",
    "import os\n",
    "\n",
    "# set up directories\n",
    "train_dir = \"C://Users//hp//Desktop//SE-7//SPM//Project//MedicalImagingandRadiology//LungDiseaseDataset//train\"  # replace with your training data path\n",
    "validation_dir = \"C://Users//hp//Desktop//SE-7//SPM\\Project//MedicalImagingandRadiology//LungDiseaseDataset//val\"  # replace with your validation data path\n",
    "model_save_path = \"LungDisease_model.h5\"  # path to save the trained model\n",
    "\n",
    "# image data generator for augmenting images\n",
    "train_datagen = ImageDataGenerator(\n",
    "    rescale=1.0 / 255,\n",
    "    rotation_range=20,\n",
    "    width_shift_range=0.2,\n",
    "    height_shift_range=0.2,\n",
    "    shear_range=0.2,\n",
    "    zoom_range=0.2,\n",
    "    horizontal_flip=True,\n",
    "    fill_mode=\"nearest\",\n",
    ")\n",
    "\n",
    "validation_datagen = ImageDataGenerator(rescale=1.0 / 255)\n",
    "\n",
    "# creating image generators\n",
    "train_generator = train_datagen.flow_from_directory(\n",
    "    train_dir,\n",
    "    target_size=(224, 224),  # resizing images to 224x224\n",
    "    batch_size=32,\n",
    "    class_mode=\"categorical\",  # assuming multi-class classification\n",
    ")\n",
    "\n",
    "validation_generator = validation_datagen.flow_from_directory(\n",
    "    validation_dir,\n",
    "    target_size=(224, 224),\n",
    "    batch_size=32,\n",
    "    class_mode=\"categorical\",\n",
    ")\n",
    "\n",
    "# loading MobileNetV2 pre-trained model without the top layer\n",
    "base_model = MobileNetV2(weights=\"imagenet\", include_top=False, input_shape=(224, 224, 3))\n",
    "\n",
    "# freeze the base model layers\n",
    "base_model.trainable = False\n",
    "\n",
    "# add custom layers for classification\n",
    "x = base_model.output\n",
    "x = GlobalAveragePooling2D()(x)  # add a global average pooling layer\n",
    "x = Dense(128, activation=\"relu\")(x)  # add a dense layer\n",
    "x = Dropout(0.5)(x)  # add dropout for regularization\n",
    "predictions = Dense(train_generator.num_classes, activation=\"softmax\")(x)  # output layer\n",
    "\n",
    "# create the final model\n",
    "model = Model(inputs=base_model.input, outputs=predictions)\n",
    "\n",
    "# compile the model\n",
    "model.compile(optimizer=Adam(learning_rate=0.0001), loss=\"categorical_crossentropy\", metrics=[\"accuracy\"])\n",
    "\n",
    "# train the model\n",
    "history = model.fit(\n",
    "    train_generator,\n",
    "    steps_per_epoch=train_generator.samples // train_generator.batch_size,\n",
    "    validation_data=validation_generator,\n",
    "    validation_steps=validation_generator.samples // validation_generator.batch_size,\n",
    "    epochs=6,  # training for 6 epochs\n",
    "    verbose=1,\n",
    ")\n",
    "\n",
    "# save the trained model\n",
    "model.save(model_save_path)\n",
    "\n",
    "print(f\"Model saved at {model_save_path}\")\n"
   ]
  },
  {
   "cell_type": "code",
   "execution_count": null,
   "id": "995606ef-7c12-4b9d-90cb-132b79d46ea5",
   "metadata": {},
   "outputs": [],
   "source": []
  }
 ],
 "metadata": {
  "kernelspec": {
   "display_name": "Python 3 (ipykernel)",
   "language": "python",
   "name": "python3"
  },
  "language_info": {
   "codemirror_mode": {
    "name": "ipython",
    "version": 3
   },
   "file_extension": ".py",
   "mimetype": "text/x-python",
   "name": "python",
   "nbconvert_exporter": "python",
   "pygments_lexer": "ipython3",
   "version": "3.12.3"
  }
 },
 "nbformat": 4,
 "nbformat_minor": 5
}
